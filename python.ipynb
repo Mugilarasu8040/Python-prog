{
  "nbformat": 4,
  "nbformat_minor": 0,
  "metadata": {
    "colab": {
      "provenance": [],
      "authorship_tag": "ABX9TyP6attGRCMoIZdKJQABoJBv",
      "include_colab_link": true
    },
    "kernelspec": {
      "name": "python3",
      "display_name": "Python 3"
    },
    "language_info": {
      "name": "python"
    }
  },
  "cells": [
    {
      "cell_type": "markdown",
      "metadata": {
        "id": "view-in-github",
        "colab_type": "text"
      },
      "source": [
        "<a href=\"https://colab.research.google.com/github/Mugilarasu8040/Python-prog/blob/main/python.ipynb\" target=\"_parent\"><img src=\"https://colab.research.google.com/assets/colab-badge.svg\" alt=\"Open In Colab\"/></a>"
      ]
    },
    {
      "cell_type": "code",
      "execution_count": null,
      "metadata": {
        "colab": {
          "base_uri": "https://localhost:8080/"
        },
        "id": "AuCC2IoedrF0",
        "outputId": "4b3659f9-6637-42e7-cb5b-272e2b65f48d"
      },
      "outputs": [
        {
          "output_type": "stream",
          "name": "stdout",
          "text": [
            "Enter the value of a10\n",
            "Enter the value of b20\n",
            "The value of c= 30\n"
          ]
        }
      ],
      "source": [
        "a=int(input(\"Enter the value of a\"))\n",
        "b=int(input(\"Enter the value of b\"))\n",
        "c=a+b\n",
        "print(\"The value of c=\",c)"
      ]
    },
    {
      "cell_type": "code",
      "source": [
        "age=eval(input(\"enter ur age\"))\n",
        "if(age>=18):\n",
        "  print(\"eligible to vote\")\n",
        "else :\n",
        "    print(\"not eligible to vote\")"
      ],
      "metadata": {
        "colab": {
          "base_uri": "https://localhost:8080/"
        },
        "id": "OU8CX_wqeZei",
        "outputId": "41ef7acf-e6e5-4d23-c9ea-554359bf9801"
      },
      "execution_count": null,
      "outputs": [
        {
          "output_type": "stream",
          "name": "stdout",
          "text": [
            "enter ur age19\n",
            "eligible to vote\n"
          ]
        }
      ]
    },
    {
      "cell_type": "code",
      "source": [
        "a=eval(input(\"enter the value of a\"))\n",
        "b=eval(input(\"enter the value of b\"))\n",
        "c=eval(input(\"enter the value of c\"))\n",
        "if(a>b):\n",
        "  if(a>c):\n",
        "    print(\"the greatest no is \",a)\n",
        "  else:\n",
        "    print(\"the greatest no is \",c)\n",
        "else:\n",
        "  if(b>a):\n",
        "    print(\"the greatest no is \",b)\n",
        "  else:\n",
        "      print(\"the greatest no is \",c)"
      ],
      "metadata": {
        "colab": {
          "base_uri": "https://localhost:8080/"
        },
        "id": "e_kTfvGRfKS_",
        "outputId": "774ae8bc-f2a4-4428-d565-5fd43d7c2215"
      },
      "execution_count": null,
      "outputs": [
        {
          "output_type": "stream",
          "name": "stdout",
          "text": [
            "enter the value of a9\n",
            "enter the value of b1\n",
            "enter the value of c8\n",
            "the greatest no is  9\n"
          ]
        }
      ]
    },
    {
      "cell_type": "code",
      "source": [
        "Name=input('Enter string')\n",
        "Reg_no=eval(input(\"Enter Reg_no\"))\n",
        "Mark1=eval(input(\"Enter Mark1\"))\n",
        "Mark2=eval(input(\"Enter Mark2\"))\n",
        "Mark3=eval(input(\"Enter Mark3\"))\n",
        "Mark4=eval(input(\"Enter Mark4\"))\n",
        "Total=Mark1+Mark2+Mark3+Mark4\n",
        "Average=Total/4\n",
        "print(\"Name=\",Name)\n",
        "print(\"Reg_no= \",Reg_no)\n",
        "print(\"Totla= \",Total)\n",
        "print(\"Average=\",Average)"
      ],
      "metadata": {
        "colab": {
          "base_uri": "https://localhost:8080/"
        },
        "id": "9W0yJ-X4gP0t",
        "outputId": "2782d3c0-bd7b-4bbd-b2fb-d1aaf84fe6e7"
      },
      "execution_count": null,
      "outputs": [
        {
          "output_type": "stream",
          "name": "stdout",
          "text": [
            "Enter stringmugil\n",
            "Enter Reg_no40\n",
            "Enter Mark190\n",
            "Enter Mark290\n",
            "Enter Mark390\n",
            "Enter Mark490\n",
            "Name= mugil\n",
            "Reg_no=  40\n",
            "Totla=  360\n",
            "Average= 90.0\n"
          ]
        }
      ]
    },
    {
      "cell_type": "code",
      "source": [
        "Name=input(\"Enter Name \")\n",
        "Reg_no=eval(input(\"Enter Reg_no \"))\n",
        "Maths=eval(input(\"Enter Maths Mark\"))\n",
        "Physics=eval(input(\"Enter Physics Mark\"))\n",
        "Chemistry=eval(input(\"Enter Chemistry Mark\"))\n",
        "Total=Maths+Physics/2+Chemistry/2\n",
        "print(\"Name=\",Name)\n",
        "print(\"Reg_no=\",Reg_no)\n",
        "if Total>=180:\n",
        "  print(\"Eligible to get an Admission\")\n",
        "else:\n",
        "    print(\"Not Eligible to get an Admission\")"
      ],
      "metadata": {
        "colab": {
          "base_uri": "https://localhost:8080/"
        },
        "id": "VJOXoUuOiQqh",
        "outputId": "c56c9747-d674-45da-a184-454b2a1da950"
      },
      "execution_count": null,
      "outputs": [
        {
          "output_type": "stream",
          "name": "stdout",
          "text": [
            "Enter Name Mugil\n",
            "Enter Reg_no 40\n",
            "Enter Maths Mark90\n",
            "Enter Physics Mark90\n",
            "Enter Chemistry Mark90\n",
            "Name= Mugil\n",
            "Reg_no= 40\n",
            "Eligible to get an Admission\n"
          ]
        }
      ]
    },
    {
      "cell_type": "code",
      "source": [
        "diameter=8\n",
        "r=diameter/2\n",
        "l=10\n",
        "Areaof_circle= 3.14*r*r\n",
        "Areaof_square=l*l\n",
        "Areaof_shadedregion=Areaof_square-Areaof_circle\n",
        "print(\"Radious value r= \",r)\n",
        "print(\"length of square box l=\",l)\n",
        "print(\"Area of the empty partof the box\",Areaof_shadedregion,\"sq.in\")"
      ],
      "metadata": {
        "colab": {
          "base_uri": "https://localhost:8080/"
        },
        "id": "LRIvQPyJkWV1",
        "outputId": "529435fd-37d8-442f-b6a3-42fa44f0e188"
      },
      "execution_count": null,
      "outputs": [
        {
          "output_type": "stream",
          "name": "stdout",
          "text": [
            "Radious value r=  4.0\n",
            "length of square box l= 10\n",
            "Area of the empty partof the box 49.76 sq.in\n"
          ]
        }
      ]
    },
    {
      "cell_type": "code",
      "source": [
        "z=0\n",
        "x=eval(input(\"enter the x value\"))\n",
        "y=eval(input(\"enter the y value\"))\n",
        "print(\"Before swapping the value of x,y\",x,y)\n",
        "z=x\n",
        "x=y\n",
        "y=z\n",
        "print(\"After swapping the value of x,y\",x,y)"
      ],
      "metadata": {
        "colab": {
          "base_uri": "https://localhost:8080/"
        },
        "id": "Vdks21Mtl7TF",
        "outputId": "d0a1441b-9ed6-4427-fc8d-ae279f578ae4"
      },
      "execution_count": null,
      "outputs": [
        {
          "output_type": "stream",
          "name": "stdout",
          "text": [
            "enter the x value10\n",
            "enter the y value20\n",
            "Before swapping the value of x,y 10 20\n",
            "After swapping the value of x,y 20 10\n"
          ]
        }
      ]
    },
    {
      "cell_type": "code",
      "source": [
        "num1=eval(input(\"enter the 1st number\"))\n",
        "num2=eval(input(\"enter the 2nd number\"))\n",
        "def add(num1,num2):\n",
        " print(\"addition of the two number:\",num1 + num2)\n",
        "def sub(num1,num2):\n",
        " print(\"subtraction of the two number: \",num1 - num2)\n",
        "def mul(num1, num2):\n",
        " print(\"multiplication of the two number:\",num1*num2)\n",
        "def div(num1, num2):\n",
        " print(\"division of the two number:\",num1/num2)\n",
        "def rem(num1,num2):\n",
        " print(\"remainder of the two number:\",num1%num2)\n",
        "add(num1, num2)\n",
        "sub(num1,num2)\n",
        "mul(num1,num2)\n",
        "div(num1,num2)\n",
        "rem(num1,num2)"
      ],
      "metadata": {
        "colab": {
          "base_uri": "https://localhost:8080/"
        },
        "id": "n8CeiUxZLkb0",
        "outputId": "e0f4e16b-6db0-495f-a7f0-4a2c84f5f8c6"
      },
      "execution_count": null,
      "outputs": [
        {
          "output_type": "stream",
          "name": "stdout",
          "text": [
            "enter the 1st number20\n",
            "enter the 2nd number10\n",
            "addition of the two number: 30\n",
            "subtraction of the two number:  10\n",
            "multiplication of the two number: 200\n",
            "division of the two number: 2.0\n",
            "remainder of the two number: 0\n"
          ]
        }
      ]
    },
    {
      "cell_type": "code",
      "source": [
        "num1=eval(input(\"Enter the 1st number\"))\n",
        "num2=eval(input(\"Enter the 2nd number\"))\n",
        "def rem(num1,num2):\n",
        "  print(\"The remainder of given number is:\",num1%num2)\n",
        "def quotient(num1, num2)  :\n",
        "  print(\"The quotient of given number is :\",num1/num2)\n",
        "rem(num1, num2)\n",
        "quotient(num1,num2)"
      ],
      "metadata": {
        "colab": {
          "base_uri": "https://localhost:8080/"
        },
        "id": "cMJUjYHLcOfz",
        "outputId": "556f9c57-6f72-4295-93e6-554f91c66c30"
      },
      "execution_count": null,
      "outputs": [
        {
          "output_type": "stream",
          "name": "stdout",
          "text": [
            "Enter the 1st number20\n",
            "Enter the 2nd number10\n",
            "The remainder of given number is: 0\n",
            "The quotient of given number is : 2.0\n"
          ]
        }
      ]
    },
    {
      "cell_type": "code",
      "source": [
        "empty_List=[]\n",
        "print(\"Empty list is \",empty_List)\n",
        "my_list= [10,507,\"python\"]\n",
        "print(\"Created list is: \",my_list)\n",
        "my_list.append(20)\n",
        "my_list.append(\"program\")\n",
        "my_list.append([3,7])\n",
        "print(\"After adding element the new list is: \",my_list)\n",
        "d1=my_list.pop()\n",
        "d2=my_list.pop(2)\n",
        "my_list.remove(10)\n",
        "print(\"After deleting elements the new list is:\",my_list)\n",
        "my_list.clear()\n",
        "print(\"After removing all the elements the new list is:\",my_list)"
      ],
      "metadata": {
        "id": "qWrmw5iPdWKd",
        "colab": {
          "base_uri": "https://localhost:8080/"
        },
        "outputId": "dd3284cd-5467-4305-fcb0-596d76131019"
      },
      "execution_count": 6,
      "outputs": [
        {
          "output_type": "stream",
          "name": "stdout",
          "text": [
            "Empty list is  []\n",
            "Created list is:  [10, 507, 'python']\n",
            "After adding element the new list is:  [10, 507, 'python', 20, 'program', [3, 7]]\n",
            "After deleting elements the new list is: [507, 20, 'program']\n",
            "After removing all the elements the new list is: []\n"
          ]
        }
      ]
    },
    {
      "cell_type": "code",
      "source": [
        "empty_tup=()\n",
        "print('Empty tuple is',empty_tup)\n",
        "single_tup=(10)\n",
        "print('The element in the tuple is:',single_tup)\n",
        "T=(10,20,30,70.5,33.3)\n",
        "print(\"The element in the tuple are:\",T)\n",
        "my_tup=(10,'tuple',38,'program')\n",
        "print(\"The length of the tuple are :\",len(my_tup))\n",
        "print('The element in the tuple are:',my_tup)\n",
        "T1=(38,84,3,53,24,83)\n",
        "print('The maximum number in the tuple is:',max(T1))\n",
        "print('The minimum number in the tuple is: ',min(T1))\n",
        "str='tuple'\n",
        "T2=tuple(str)\n",
        "print('The string to a tuple value of a character is:',T2)\n",
        "L=[3,5,2,5,6]\n",
        "T3=tuple(L)\n",
        "print('The list element to a tuple value of a list is:',T3)"
      ],
      "metadata": {
        "id": "N2gIABAsfvJb",
        "colab": {
          "base_uri": "https://localhost:8080/"
        },
        "outputId": "6847e6dd-e84b-483c-acc1-044766ddc796"
      },
      "execution_count": 9,
      "outputs": [
        {
          "output_type": "stream",
          "name": "stdout",
          "text": [
            "Empty tuple is ()\n",
            "The element in the tuple is: 10\n",
            "The element in the tuple are: (10, 20, 30, 70.5, 33.3)\n",
            "The length of the tuple are : 4\n",
            "The element in the tuple are: (10, 'tuple', 38, 'program')\n",
            "The maximum number in the tuple is: 84\n",
            "The minimum number in the tuple is:  3\n",
            "The string to a tuple value of a character is: ('t', 'u', 'p', 'l', 'e')\n",
            "The list element to a tuple value of a list is: (3, 5, 2, 5, 6)\n"
          ]
        }
      ]
    }
  ]
}